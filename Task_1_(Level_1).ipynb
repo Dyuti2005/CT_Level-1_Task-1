{
  "nbformat": 4,
  "nbformat_minor": 0,
  "metadata": {
    "colab": {
      "provenance": []
    },
    "kernelspec": {
      "name": "python3",
      "display_name": "Python 3"
    },
    "language_info": {
      "name": "python"
    }
  },
  "cells": [
    {
      "cell_type": "code",
      "execution_count": 3,
      "metadata": {
        "colab": {
          "base_uri": "https://localhost:8080/"
        },
        "id": "JuqSJJLhGi1l",
        "outputId": "c4cb6228-9fe3-4116-91aa-622a1c4ee488"
      },
      "outputs": [
        {
          "output_type": "stream",
          "name": "stdout",
          "text": [
            "                   Cuisine  Count  Percentage\n",
            "Cuisine_List                                 \n",
            "North Indian  North Indian   3960       41.46\n",
            "Chinese            Chinese   2735       28.64\n",
            "Fast Food        Fast Food   1986       20.79\n"
          ]
        }
      ],
      "source": [
        "import pandas as pd\n",
        "\n",
        "# Load your dataset\n",
        "df = pd.read_excel('Dataset .xlsx')\n",
        "\n",
        "# Handle missing values in 'Cuisines'\n",
        "df['Cuisines'] = df['Cuisines'].fillna('')\n",
        "\n",
        "# Split cuisines and explode into individual rows\n",
        "df['Cuisine_List'] = df['Cuisines'].str.split(', ')\n",
        "exploded_df = df.explode('Cuisine_List')\n",
        "\n",
        "# Count occurrences of each cuisine\n",
        "cuisine_counts = exploded_df['Cuisine_List'].value_counts()\n",
        "\n",
        "# Get total number of restaurants\n",
        "total_restaurants = df.shape[0]\n",
        "\n",
        "# Get top 3 cuisines\n",
        "top_3 = cuisine_counts.head(3)\n",
        "\n",
        "# Calculate percentage of restaurants serving each top cuisine\n",
        "top_3_percentages = (top_3 / total_restaurants) * 100\n",
        "\n",
        "# Combine into a final DataFrame\n",
        "result = pd.DataFrame({\n",
        "    'Cuisine': top_3.index,\n",
        "    'Count': top_3.values,\n",
        "    'Percentage': top_3_percentages.round(2)\n",
        "})\n",
        "\n",
        "print(result)\n"
      ]
    }
  ]
}